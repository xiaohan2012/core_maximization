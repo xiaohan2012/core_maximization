{
 "cells": [
  {
   "cell_type": "code",
   "execution_count": 61,
   "metadata": {},
   "outputs": [],
   "source": [
    "%matplotlib inline"
   ]
  },
  {
   "cell_type": "code",
   "execution_count": 69,
   "metadata": {},
   "outputs": [],
   "source": [
    "from fixtures import house_graph\n",
    "from graph_tool.draw import graph_draw\n",
    "from graph_tool.topology import kcore_decomposition\n",
    "from graph_helpers import sort_pair\n",
    "import networkx as nx\n",
    "from networkx.drawing.nx_agraph import graphviz_layout\n",
    "# from networkit import overview\n",
    "# from graph_helpers import gt2nk"
   ]
  },
  {
   "cell_type": "code",
   "execution_count": 20,
   "metadata": {},
   "outputs": [],
   "source": [
    "def get_kcore(g):\n",
    "    return kcore_decomposition(g).a"
   ]
  },
  {
   "cell_type": "code",
   "execution_count": 18,
   "metadata": {},
   "outputs": [],
   "source": [
    "original_g = house_graph()\n",
    "# gnk = gt2nk(g)"
   ]
  },
  {
   "cell_type": "code",
   "execution_count": 16,
   "metadata": {},
   "outputs": [
    {
     "data": {
      "text/plain": [
       "'\\nthe graph:\\n\\n       0\\n      /      /       /         1 --- 2\\n    |    /|\\n    |   / |\\n    | /   |\\n    |/    |\\n    3 --- 4 --- 5\\n'"
      ]
     },
     "execution_count": 16,
     "metadata": {},
     "output_type": "execute_result"
    }
   ],
   "source": [
    "\"\"\"\n",
    "the graph:\n",
    "\n",
    "       0\n",
    "      / \\\n",
    "     /   \\\n",
    "    /     \\\n",
    "    1 --- 2\n",
    "    |    /|\n",
    "    |   / |\n",
    "    | /   |\n",
    "    |/    |\n",
    "    3 --- 4 --- 5\n",
    "\"\"\"   "
   ]
  },
  {
   "cell_type": "code",
   "execution_count": 17,
   "metadata": {},
   "outputs": [],
   "source": [
    "cand_edges = [(2, 5), (0, 5), (0, 4), (1, 4), (0, 3)]"
   ]
  },
  {
   "cell_type": "code",
   "execution_count": 78,
   "metadata": {},
   "outputs": [
    {
     "name": "stdout",
     "output_type": "stream",
     "text": [
      "adding (2, 5) promotes [5]\n",
      "new meta node: ((2, 5),)\n",
      "parent meta nodes set()\n",
      "----------\n",
      "adding (0, 5) promotes [0, 1, 2, 3, 4, 5]\n",
      "new meta node: ((0, 5),)\n",
      "parent meta nodes {((2, 5),)}\n",
      "----------\n",
      "adding (0, 4) promotes nothing\n",
      "----------\n",
      "adding (1, 4) promotes nothing\n",
      "----------\n",
      "adding (0, 3) promotes [0, 1, 2, 3, 4]\n",
      "new meta node: ((0, 3), (1, 4), (0, 4))\n",
      "parent meta nodes set()\n",
      "----------\n"
     ]
    }
   ],
   "source": [
    "g = original_g.copy()\n",
    "# old_core = get_kcore(g)\n",
    "pending_edges_g = nx.Graph()\n",
    "active_edges_g = nx.Graph()\n",
    "\n",
    "edge2meta_node = {}\n",
    "\n",
    "pending_edges = set()\n",
    "active_edges = set()\n",
    "\n",
    "edge_dag = nx.DiGraph()\n",
    "# meta_nodes = []\n",
    "# meta_edges = []\n",
    "\n",
    "for u, v in cand_edges:\n",
    "    u, v = sort_pair([u, v])\n",
    "    \n",
    "    old_core = get_kcore(g)\n",
    "    g.add_edge(u, v)\n",
    "    new_core = get_kcore(g)\n",
    "    affected_nodes = list((new_core != old_core).nonzero()[0])\n",
    "    \n",
    "    if affected_nodes:        \n",
    "        print('adding ({}, {}) promotes {}'.format(u, v, affected_nodes))\n",
    "        \n",
    "        # get related pending edges\n",
    "        # and create the meta node\n",
    "        related_pending_edges = []\n",
    "        for i in affected_nodes:\n",
    "            if pending_edges_g.has_node(i):\n",
    "                for j in pending_edges_g[i]:\n",
    "                    if new_core[i] >= new_core[j]:\n",
    "                        related_pending_edges.append((i, j))        \n",
    "                \n",
    "        related_pending_edges.append((u, v))\n",
    "        # print('related pending edges', related_pending_edges)\n",
    "        meta_node = tuple(set(sorted(map(sort_pair, related_pending_edges))))\n",
    "        \n",
    "        print('new meta node:', meta_node)\n",
    "        \n",
    "        # create the indexing\n",
    "        for e in meta_node:\n",
    "            edge2meta_node[e] = meta_node\n",
    "\n",
    "        # get meta nodes dependencies            \n",
    "        related_active_edges = []\n",
    "        for i in affected_nodes:\n",
    "            if active_edges_g.has_node(i):\n",
    "                for j in active_edges_g[i]:\n",
    "                    if new_core[i] <= new_core[j]:  # only peer or higher-core neighbors\n",
    "                        related_active_edges.append((i, j))        \n",
    "        \n",
    "        related_active_edges = set(map(sort_pair, related_active_edges))\n",
    "        # print('related active edges', related_active_edges)\n",
    "        \n",
    "        parent_meta_nodes = set()\n",
    "        for e in related_active_edges:\n",
    "            parent_meta_nodes.add(edge2meta_node[e])\n",
    "        print('parent meta nodes', parent_meta_nodes)\n",
    "                \n",
    "        # update the edge_dag\n",
    "        edge_dag.add_node(meta_node)\n",
    "        for n in parent_meta_nodes:\n",
    "            edge_dag.add_edge(n, meta_node)\n",
    "        \n",
    "        # these edges are not pending any more\n",
    "        pending_edges_g.remove_edges_from(related_pending_edges)\n",
    "        # these edges become active\n",
    "        active_edges_g.add_edges_from(related_pending_edges)        \n",
    "    else:\n",
    "        print('adding ({}, {}) promotes nothing'.format(u, v))\n",
    "        pending_edges_g.add_edge(u, v)\n",
    "    print('-' * 10)"
   ]
  },
  {
   "cell_type": "code",
   "execution_count": 79,
   "metadata": {},
   "outputs": [
    {
     "data": {
      "image/png": "[encoded data removed]",
      "text/plain": [
       "<matplotlib.figure.Figure at 0x7fa8f42415c0>"
      ]
     },
     "metadata": {},
     "output_type": "display_data"
    }
   ],
   "source": [
    "nx.draw(edge_dag, \n",
    "        pos=graphviz_layout(edge_dag),\n",
    "        with_labels=True,\n",
    "        prog='dot')\n"
   ]
  }
 ],
 "metadata": {
  "kernelspec": {
   "display_name": "Python 3",
   "language": "python",
   "name": "python3"
  },
  "language_info": {
   "codemirror_mode": {
    "name": "ipython",
    "version": 3
   },
   "file_extension": ".py",
   "mimetype": "text/x-python",
   "name": "python",
   "nbconvert_exporter": "python",
   "pygments_lexer": "ipython3",
   "version": "3.5.2"
  }
 },
 "nbformat": 4,
 "nbformat_minor": 2
}
