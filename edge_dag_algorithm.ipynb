{
 "cells": [
  {
   "cell_type": "code",
   "execution_count": 2,
   "metadata": {},
   "outputs": [],
   "source": [
    "%matplotlib inline"
   ]
  },
  {
   "cell_type": "code",
   "execution_count": 102,
   "metadata": {},
   "outputs": [],
   "source": [
    "import networkx as nx\n",
    "import numpy as np\n",
    "import pickle as pkl\n",
    "import pandas as pd\n",
    "\n",
    "from graph_tool import load_graph\n",
    "from graph_tool.draw import graph_draw\n",
    "from graph_tool.topology import kcore_decomposition\n",
    "from networkx.drawing.nx_agraph import graphviz_layout\n",
    "from networkit import Glist\n",
    "from tqdm import tqdm\n",
    "\n",
    "from fixtures import house_graph\n",
    "from graph_helpers import sort_pair\n",
    "# from networkit import overview\n",
    "from graph_helpers import gt2nk"
   ]
  },
  {
   "cell_type": "code",
   "execution_count": 4,
   "metadata": {},
   "outputs": [],
   "source": [
    "def get_kcore(g):\n",
    "    return kcore_decomposition(g).a"
   ]
  },
  {
   "cell_type": "code",
   "execution_count": 5,
   "metadata": {},
   "outputs": [],
   "source": [
    "original_g = house_graph()\n",
    "# gnk = gt2nk(g)"
   ]
  },
  {
   "cell_type": "code",
   "execution_count": 16,
   "metadata": {},
   "outputs": [
    {
     "data": {
      "text/plain": [
       "'\\nthe graph:\\n\\n       0\\n      /      /       /         1 --- 2\\n    |    /|\\n    |   / |\\n    | /   |\\n    |/    |\\n    3 --- 4 --- 5\\n'"
      ]
     },
     "execution_count": 16,
     "metadata": {},
     "output_type": "execute_result"
    }
   ],
   "source": [
    "\"\"\"\n",
    "the graph:\n",
    "\n",
    "       0\n",
    "      / \\\n",
    "     /   \\\n",
    "    /     \\\n",
    "    1 --- 2\n",
    "    |    /|\n",
    "    |   / |\n",
    "    | /   |\n",
    "    |/    |\n",
    "    3 --- 4 --- 5\n",
    "\"\"\"   "
   ]
  },
  {
   "cell_type": "code",
   "execution_count": 66,
   "metadata": {},
   "outputs": [],
   "source": [
    "def get_edge_dag(original_g, cand_edges, verbose=True):\n",
    "    g = original_g.copy()\n",
    "    # old_core = get_kcore(g)\n",
    "    pending_edges_g = nx.Graph()\n",
    "    active_edges_g = nx.Graph()\n",
    "\n",
    "    edge2meta_node = {}\n",
    "\n",
    "    pending_edges = set()\n",
    "    active_edges = set()\n",
    "\n",
    "    edge_dag = nx.DiGraph()\n",
    "    # meta_nodes = []\n",
    "    # meta_edges = []\n",
    "\n",
    "    for u, v in tqdm(cand_edges):\n",
    "        u, v = sort_pair([u, v])\n",
    "\n",
    "        old_core = get_kcore(g)\n",
    "        g.add_edge(u, v)\n",
    "        new_core = get_kcore(g)\n",
    "        core_increase = int((new_core - old_core).sum())\n",
    "\n",
    "        affected_nodes = list((new_core != old_core).nonzero()[0])\n",
    "\n",
    "        if affected_nodes:   \n",
    "            if verbose:\n",
    "                print('adding ({}, {}) promotes {}'.format(u, v, affected_nodes))\n",
    "\n",
    "            # get related pending edges\n",
    "            # and create the meta node\n",
    "            related_pending_edges = []\n",
    "            for i in affected_nodes:\n",
    "                if pending_edges_g.has_node(i):\n",
    "                    for j in pending_edges_g[i]:\n",
    "                        if new_core[i] >= new_core[j]:\n",
    "                            related_pending_edges.append((i, j))        \n",
    "\n",
    "            related_pending_edges.append((u, v))\n",
    "            # print('related pending edges', related_pending_edges)\n",
    "            meta_node = tuple(set(sorted(map(sort_pair, related_pending_edges))))\n",
    "            \n",
    "            if verbose:\n",
    "                print('new meta node:', meta_node)\n",
    "\n",
    "            # create the indexing\n",
    "            for e in meta_node:\n",
    "                edge2meta_node[e] = meta_node\n",
    "\n",
    "            # get meta nodes dependencies            \n",
    "            related_active_edges = []\n",
    "            for i in affected_nodes:\n",
    "                if active_edges_g.has_node(i):\n",
    "                    for j in active_edges_g[i]:\n",
    "                        if new_core[i] <= new_core[j]:  # only peer or higher-core neighbors\n",
    "                            related_active_edges.append((i, j))        \n",
    "\n",
    "            related_active_edges = set(map(sort_pair, related_active_edges))\n",
    "            # print('related active edges', related_active_edges)\n",
    "\n",
    "            parent_meta_nodes = set()\n",
    "            for e in related_active_edges:\n",
    "                parent_meta_nodes.add(edge2meta_node[e])\n",
    "            if verbose:\n",
    "                print('parent meta nodes', parent_meta_nodes)\n",
    "\n",
    "            # update the edge_dag\n",
    "            attrs = {'local_gain': core_increase,\n",
    "                     'local_weighted_gain': core_increase / len(meta_node)}\n",
    "            edge_dag.add_node(\n",
    "                meta_node, \n",
    "                attrs)\n",
    "            inc_edge_cost = len(meta_node)\n",
    "            inc_gain = core_increase\n",
    "            for n in parent_meta_nodes:\n",
    "                edge_dag.add_edge(n, meta_node)\n",
    "                inc_edge_cost += edge_dag.node[n]['inc_edge_cost']\n",
    "                inc_gain += edge_dag.node[n]['inc_gain']\n",
    "                inc_gain\n",
    "            edge_dag.node[meta_node]['inc_edge_cost'] = inc_edge_cost\n",
    "            edge_dag.node[meta_node]['inc_gain'] = inc_gain\n",
    "            edge_dag.node[meta_node]['inc_weighted_gain'] = inc_gain / inc_edge_cost\n",
    "\n",
    "            # these edges are not pending any more\n",
    "            pending_edges_g.remove_edges_from(related_pending_edges)\n",
    "            # these edges become active\n",
    "            active_edges_g.add_edges_from(related_pending_edges)        \n",
    "        else:\n",
    "            if verbose:\n",
    "                print('adding ({}, {}) promotes nothing'.format(u, v))\n",
    "            pending_edges_g.add_edge(u, v)\n",
    "        if verbose:\n",
    "            print('-' * 10)\n",
    "    return edge_dag"
   ]
  },
  {
   "cell_type": "code",
   "execution_count": 110,
   "metadata": {},
   "outputs": [
    {
     "name": "stderr",
     "output_type": "stream",
     "text": [
      "100%|██████████| 5/5 [00:00<00:00, 316.10it/s]\n"
     ]
    }
   ],
   "source": [
    "cand_edges = [(2, 5), (0, 5), (0, 4), (1, 4), (0, 3)]\n",
    "toy_edge_dag = get_edge_dag(original_g, cand_edges,\n",
    "                            verbose=False)"
   ]
  },
  {
   "cell_type": "code",
   "execution_count": 111,
   "metadata": {},
   "outputs": [
    {
     "name": "stdout",
     "output_type": "stream",
     "text": [
      "((2, 5),) {'inc_edge_cost': 1, 'inc_weighted_gain': 1.0, 'inc_gain': 1, 'local_gain': 1, 'local_weighted_gain': 1.0}\n",
      "((0, 3), (1, 4), (0, 4)) {'inc_edge_cost': 3, 'inc_weighted_gain': 1.6666666666666667, 'inc_gain': 5, 'local_gain': 5, 'local_weighted_gain': 1.6666666666666667}\n",
      "((0, 5),) {'inc_edge_cost': 2, 'inc_weighted_gain': 3.5, 'inc_gain': 7, 'local_gain': 6, 'local_weighted_gain': 6.0}\n"
     ]
    }
   ],
   "source": [
    "for n in toy_edge_dag.nodes():\n",
    "    print(n, toy_edge_dag.node[n])"
   ]
  },
  {
   "cell_type": "code",
   "execution_count": 118,
   "metadata": {},
   "outputs": [
    {
     "data": {
      "text/plain": [
       "[]"
      ]
     },
     "execution_count": 118,
     "metadata": {},
     "output_type": "execute_result"
    }
   ],
   "source": [
    "toy_edge_dag.in_edges(((2, 5),))"
   ]
  },
  {
   "cell_type": "code",
   "execution_count": 140,
   "metadata": {},
   "outputs": [
    {
     "name": "stdout",
     "output_type": "stream",
     "text": [
      "((0, 5),)\n",
      "((2, 5),)\n"
     ]
    }
   ],
   "source": [
    "def recurse_down(dag, child, func, stop_func):\n",
    "    if stop_func(dag, child):\n",
    "        return\n",
    "    \n",
    "    func(dag, child)\n",
    "    for parent, _ in dag.in_edges(child):\n",
    "        recurse_down(dag, parent, func, stop_func)\n",
    "recurse_down(toy_edge_dag, ((0, 5),), lambda g, n: print(n), lambda g, n: False)"
   ]
  },
  {
   "cell_type": "code",
   "execution_count": 22,
   "metadata": {
    "scrolled": true
   },
   "outputs": [
    {
     "data": {
      "image/png": "[encoded data removed]",
      "text/plain": [
       "<matplotlib.figure.Figure at 0x7f9ff824c780>"
      ]
     },
     "metadata": {},
     "output_type": "display_data"
    }
   ],
   "source": [
    "nx.draw(edge_dag, \n",
    "        pos=graphviz_layout(edge_dag),\n",
    "        with_labels=True,\n",
    "        prog='dot')\n"
   ]
  },
  {
   "cell_type": "code",
   "execution_count": 70,
   "metadata": {},
   "outputs": [],
   "source": [
    "grqc_g = load_graph('data/grqc/graph.gt') \n",
    "cand_edges = pkl.load(open('data/grqc/recommended_edges_N10.pkl', 'rb'))"
   ]
  },
  {
   "cell_type": "code",
   "execution_count": 73,
   "metadata": {},
   "outputs": [
    {
     "name": "stderr",
     "output_type": "stream",
     "text": [
      "100%|██████████| 38067/38067 [02:07<00:00, 299.34it/s]\n"
     ]
    }
   ],
   "source": [
    "edge_dag = get_edge_dag(grqc_g, cand_edges, verbose=False)"
   ]
  },
  {
   "cell_type": "code",
   "execution_count": 74,
   "metadata": {},
   "outputs": [
    {
     "name": "stdout",
     "output_type": "stream",
     "text": [
      "num. cand edges / num. edge nodes = 38067 / 23360\n"
     ]
    }
   ],
   "source": [
    "print('num. cand edges / num. edge nodes = {} / {}'.format(len(cand_edges), edge_dag.number_of_nodes()))"
   ]
  },
  {
   "cell_type": "code",
   "execution_count": 92,
   "metadata": {},
   "outputs": [],
   "source": [
    "node_sizes = pd.Series([len(n) for n in edge_dag.nodes()])\n",
    "local_weighted_gains = pd.Series([edge_dag.node[n]['local_weighted_gain'] for n in edge_dag.nodes()])\n",
    "inc_weighted_gains = pd.Series([edge_dag.node[n]['inc_weighted_gain'] for n in edge_dag.nodes()])"
   ]
  },
  {
   "cell_type": "code",
   "execution_count": 77,
   "metadata": {},
   "outputs": [
    {
     "data": {
      "text/plain": [
       "<matplotlib.axes._subplots.AxesSubplot at 0x7f9fa45de5f8>"
      ]
     },
     "execution_count": 77,
     "metadata": {},
     "output_type": "execute_result"
    },
    {
     "data": {
      "image/png": "[encoded data removed]",
      "text/plain": [
       "<matplotlib.figure.Figure at 0x7f9ff81a5780>"
      ]
     },
     "metadata": {},
     "output_type": "display_data"
    }
   ],
   "source": [
    "node_sizes.plot('hist', logy=True)"
   ]
  },
  {
   "cell_type": "code",
   "execution_count": 89,
   "metadata": {},
   "outputs": [
    {
     "data": {
      "text/plain": [
       "<matplotlib.axes._subplots.AxesSubplot at 0x7f9f9c3dbbe0>"
      ]
     },
     "execution_count": 89,
     "metadata": {},
     "output_type": "execute_result"
    },
    {
     "data": {
      "image/png": "[encoded data removed]",
      "text/plain": [
       "<matplotlib.figure.Figure at 0x7f9fe49b4e10>"
      ]
     },
     "metadata": {},
     "output_type": "display_data"
    }
   ],
   "source": [
    "local_weighted_gains.plot('hist', logy=True)"
   ]
  },
  {
   "cell_type": "code",
   "execution_count": 93,
   "metadata": {},
   "outputs": [
    {
     "data": {
      "text/plain": [
       "<matplotlib.axes._subplots.AxesSubplot at 0x7f9f97acee48>"
      ]
     },
     "execution_count": 93,
     "metadata": {},
     "output_type": "execute_result"
    },
    {
     "data": {
      "image/png": "[encoded data removed]",
      "text/plain": [
       "<matplotlib.figure.Figure at 0x7f9fa43c19e8>"
      ]
     },
     "metadata": {},
     "output_type": "display_data"
    }
   ],
   "source": [
    "inc_weighted_gains.plot('hist', logy=True)"
   ]
  },
  {
   "cell_type": "code",
   "execution_count": 87,
   "metadata": {},
   "outputs": [
    {
     "data": {
      "text/plain": [
       "<matplotlib.axes._subplots.AxesSubplot at 0x7f9fe456b9e8>"
      ]
     },
     "execution_count": 87,
     "metadata": {},
     "output_type": "execute_result"
    },
    {
     "data": {
      "image/png": "[encoded data removed]",
      "text/plain": [
       "<matplotlib.figure.Figure at 0x7f9fe46034a8>"
      ]
     },
     "metadata": {},
     "output_type": "display_data"
    }
   ],
   "source": [
    "# edge weights on single nodes\n",
    "glist = Glist(gt2nk(grqc_g))\n",
    "single_edges_gain = pd.Series([len(glist.fake_insert(*e)) for e in cand_edges])\n",
    "single_edges_gain.plot('hist', logy=True)"
   ]
  },
  {
   "cell_type": "code",
   "execution_count": 100,
   "metadata": {},
   "outputs": [
    {
     "data": {
      "text/plain": [
       "<matplotlib.axes._subplots.AxesSubplot at 0x7f9fa474b2e8>"
      ]
     },
     "execution_count": 100,
     "metadata": {},
     "output_type": "execute_result"
    },
    {
     "data": {
      "image/png": "[encoded data removed]",
      "text/plain": [
       "<matplotlib.figure.Figure at 0x7f9fa46b4198>"
      ]
     },
     "metadata": {},
     "output_type": "display_data"
    }
   ],
   "source": [
    "pd.Series().plot('hist', logy=True)"
   ]
  },
  {
   "cell_type": "code",
   "execution_count": 142,
   "metadata": {},
   "outputs": [
    {
     "name": "stdout",
     "output_type": "stream",
     "text": [
      "998\n",
      "997\n",
      "996\n",
      "995\n",
      "994\n",
      "993\n",
      "992\n",
      "991\n",
      "990\n",
      "984\n",
      "983\n",
      "982\n",
      "981\n",
      "980\n",
      "979\n",
      "978\n",
      "977\n",
      "976\n",
      "975\n",
      "974\n",
      "973\n",
      "972\n",
      "971\n",
      "970\n",
      "969\n",
      "968\n",
      "967\n",
      "966\n",
      "965\n",
      "964\n",
      "963\n",
      "962\n",
      "961\n",
      "960\n",
      "959\n",
      "958\n",
      "955\n",
      "954\n",
      "953\n",
      "952\n",
      "951\n",
      "950\n",
      "949\n",
      "948\n",
      "946\n",
      "945\n",
      "944\n",
      "942\n",
      "941\n",
      "939\n",
      "938\n",
      "937\n",
      "936\n",
      "935\n",
      "934\n",
      "933\n",
      "932\n",
      "931\n",
      "930\n",
      "929\n",
      "926\n",
      "925\n",
      "924\n",
      "923\n",
      "922\n",
      "921\n",
      "920\n",
      "918\n",
      "917\n",
      "916\n",
      "915\n",
      "914\n",
      "913\n",
      "912\n",
      "911\n",
      "910\n",
      "909\n",
      "908\n",
      "907\n",
      "906\n",
      "905\n",
      "904\n",
      "903\n",
      "902\n",
      "900\n",
      "899\n",
      "898\n",
      "897\n",
      "896\n",
      "895\n",
      "894\n",
      "891\n",
      "890\n",
      "888\n",
      "887\n",
      "886\n",
      "885\n",
      "884\n",
      "883\n",
      "882\n",
      "881\n",
      "880\n",
      "879\n",
      "878\n",
      "877\n",
      "876\n",
      "875\n",
      "874\n",
      "873\n",
      "872\n",
      "871\n",
      "870\n",
      "869\n",
      "868\n",
      "867\n",
      "866\n",
      "865\n",
      "863\n",
      "862\n",
      "859\n",
      "858\n",
      "857\n",
      "856\n",
      "855\n",
      "854\n",
      "853\n",
      "852\n",
      "850\n",
      "847\n",
      "843\n",
      "840\n",
      "839\n",
      "837\n",
      "835\n",
      "833\n",
      "829\n",
      "828\n",
      "825\n",
      "822\n",
      "821\n",
      "820\n",
      "818\n",
      "817\n",
      "812\n",
      "809\n",
      "808\n",
      "805\n",
      "802\n",
      "799\n",
      "795\n",
      "794\n",
      "793\n",
      "791\n",
      "789\n",
      "788\n",
      "787\n",
      "786\n",
      "785\n",
      "782\n",
      "781\n",
      "780\n",
      "779\n",
      "778\n",
      "776\n",
      "775\n",
      "774\n",
      "773\n",
      "770\n",
      "769\n",
      "768\n",
      "766\n",
      "764\n",
      "763\n",
      "761\n",
      "760\n",
      "758\n",
      "757\n",
      "756\n",
      "755\n",
      "754\n",
      "753\n",
      "752\n",
      "751\n",
      "750\n",
      "749\n",
      "748\n",
      "747\n",
      "746\n",
      "745\n",
      "744\n",
      "743\n",
      "742\n",
      "741\n",
      "740\n",
      "739\n",
      "738\n",
      "737\n",
      "735\n",
      "734\n",
      "733\n",
      "732\n",
      "729\n",
      "728\n",
      "727\n",
      "726\n",
      "725\n",
      "724\n",
      "723\n",
      "722\n",
      "721\n",
      "720\n",
      "718\n",
      "717\n",
      "715\n",
      "713\n",
      "710\n",
      "709\n",
      "708\n",
      "707\n",
      "706\n",
      "705\n",
      "704\n",
      "703\n",
      "702\n",
      "700\n",
      "698\n",
      "695\n",
      "694\n",
      "693\n",
      "692\n",
      "690\n",
      "689\n",
      "688\n",
      "687\n",
      "686\n",
      "684\n",
      "683\n",
      "682\n",
      "681\n",
      "677\n",
      "676\n",
      "675\n",
      "673\n",
      "672\n",
      "671\n",
      "670\n",
      "667\n",
      "665\n",
      "664\n",
      "663\n",
      "662\n",
      "661\n",
      "660\n",
      "659\n",
      "658\n",
      "657\n",
      "655\n",
      "654\n",
      "653\n",
      "652\n",
      "651\n",
      "650\n",
      "649\n",
      "647\n",
      "646\n",
      "645\n",
      "644\n",
      "642\n",
      "641\n",
      "639\n",
      "638\n",
      "636\n",
      "635\n",
      "634\n",
      "633\n",
      "632\n",
      "631\n",
      "630\n",
      "628\n",
      "627\n",
      "626\n",
      "625\n",
      "624\n",
      "623\n",
      "622\n",
      "621\n",
      "620\n",
      "619\n",
      "618\n",
      "616\n",
      "615\n",
      "614\n",
      "613\n",
      "610\n",
      "609\n",
      "608\n",
      "607\n",
      "605\n",
      "604\n",
      "603\n",
      "602\n",
      "601\n",
      "600\n",
      "599\n",
      "598\n",
      "597\n",
      "596\n",
      "595\n",
      "593\n",
      "592\n",
      "591\n",
      "589\n",
      "588\n",
      "586\n",
      "585\n",
      "583\n",
      "582\n",
      "581\n",
      "580\n",
      "579\n",
      "578\n",
      "577\n",
      "574\n",
      "573\n",
      "572\n",
      "571\n",
      "570\n",
      "569\n",
      "568\n",
      "567\n",
      "566\n",
      "565\n",
      "564\n",
      "563\n",
      "562\n",
      "560\n",
      "559\n",
      "558\n",
      "557\n",
      "556\n",
      "555\n",
      "554\n",
      "553\n",
      "552\n",
      "551\n",
      "550\n",
      "549\n",
      "548\n",
      "547\n",
      "546\n",
      "545\n",
      "544\n",
      "543\n",
      "542\n",
      "541\n",
      "540\n",
      "539\n",
      "538\n",
      "537\n",
      "536\n",
      "534\n",
      "533\n",
      "532\n",
      "531\n",
      "530\n",
      "529\n",
      "528\n",
      "527\n",
      "526\n",
      "525\n",
      "524\n",
      "523\n",
      "522\n",
      "521\n",
      "519\n",
      "517\n",
      "516\n",
      "513\n",
      "512\n",
      "511\n",
      "510\n",
      "509\n",
      "508\n",
      "507\n",
      "506\n",
      "504\n",
      "503\n",
      "502\n",
      "501\n",
      "500\n",
      "499\n",
      "498\n",
      "497\n",
      "496\n",
      "495\n",
      "494\n",
      "492\n",
      "489\n",
      "488\n",
      "487\n",
      "486\n",
      "485\n",
      "484\n",
      "483\n",
      "482\n",
      "481\n",
      "479\n",
      "478\n",
      "477\n",
      "476\n",
      "474\n",
      "473\n",
      "472\n",
      "471\n",
      "470\n",
      "469\n",
      "468\n",
      "467\n",
      "466\n",
      "465\n",
      "464\n",
      "463\n",
      "462\n",
      "461\n",
      "460\n",
      "459\n",
      "458\n",
      "457\n",
      "456\n",
      "455\n",
      "454\n",
      "453\n",
      "451\n",
      "450\n",
      "449\n",
      "448\n",
      "447\n",
      "446\n",
      "444\n",
      "443\n",
      "442\n",
      "441\n",
      "439\n",
      "438\n",
      "437\n",
      "436\n",
      "435\n",
      "434\n",
      "433\n",
      "432\n",
      "431\n",
      "430\n",
      "425\n",
      "423\n",
      "418\n",
      "416\n",
      "415\n",
      "414\n",
      "411\n",
      "407\n",
      "406\n",
      "403\n",
      "402\n",
      "399\n",
      "395\n",
      "392\n",
      "391\n",
      "390\n",
      "389\n",
      "385\n",
      "383\n",
      "377\n",
      "375\n",
      "372\n",
      "370\n",
      "366\n",
      "358\n",
      "357\n",
      "356\n",
      "353\n",
      "352\n",
      "351\n",
      "350\n",
      "349\n",
      "345\n",
      "344\n",
      "343\n",
      "342\n",
      "341\n",
      "340\n",
      "336\n",
      "327\n",
      "322\n",
      "321\n",
      "316\n",
      "314\n",
      "311\n",
      "310\n",
      "309\n",
      "308\n",
      "306\n",
      "300\n",
      "296\n",
      "295\n",
      "294\n",
      "288\n",
      "287\n",
      "285\n",
      "278\n",
      "271\n",
      "269\n",
      "267\n",
      "265\n",
      "264\n",
      "261\n",
      "260\n",
      "258\n",
      "257\n",
      "251\n",
      "247\n",
      "246\n",
      "228\n",
      "227\n",
      "220\n",
      "101\n",
      "97\n",
      "96\n",
      "95\n",
      "5\n",
      "-7\n"
     ]
    }
   ],
   "source": [
    "# simple heuristic:\n",
    "# greedily select leaf nodes\n",
    "verbose = False\n",
    "add_edges = set()\n",
    "selected_edges = []\n",
    "B = 1000\n",
    "for n in edge_dag.nodes_iter():\n",
    "    edge_dag.node[n]['selected'] = False\n",
    "    \n",
    "while True:\n",
    "    best_meta_node = None\n",
    "    best_gain = 0\n",
    "    for n in edge_dag.nodes_iter():\n",
    "        if not edge_dag.node[n]['selected']:\n",
    "            if edge_dag.node[n]['inc_weighted_gain'] > best_gain:\n",
    "                best_meta_node = n\n",
    "                best_gain = edge_dag.node[n]['inc_weighted_gain']\n",
    "                \n",
    "    if best_meta_node is None:\n",
    "        break\n",
    "    else:\n",
    "        if verbose:\n",
    "            print('best_meta_node', best_meta_node)\n",
    "            print('gain', best_gain)\n",
    "        new_edges = []\n",
    "        def update_func(g, n):\n",
    "            # needs to update inc_weighted_gain\n",
    "            global new_edges\n",
    "            if not g.node[n]['selected']:\n",
    "                g.node[n]['selected'] = True\n",
    "                new_edges += list(n)\n",
    "        def stop_func(g, n):\n",
    "            return g.node[n]['selected']\n",
    "        \n",
    "        recurse_down(edge_dag, best_meta_node, update_func, stop_func)\n",
    "        if verbose:\n",
    "            print('new_edges', new_edges)\n",
    "        B -= len(new_edges)\n",
    "        print(B)\n",
    "        if B < 0:\n",
    "            break\n",
    "        selected_edges += new_edges\n",
    "\n",
    "        "
   ]
  },
  {
   "cell_type": "code",
   "execution_count": 146,
   "metadata": {},
   "outputs": [],
   "source": [
    "pkl.dump(selected_edges, open('output/grqc/edge_dag/B1000-N10.pkl', 'wb'))"
   ]
  }
 ],
 "metadata": {
  "kernelspec": {
   "display_name": "Python 3",
   "language": "python",
   "name": "python3"
  },
  "language_info": {
   "codemirror_mode": {
    "name": "ipython",
    "version": 3
   },
   "file_extension": ".py",
   "mimetype": "text/x-python",
   "name": "python",
   "nbconvert_exporter": "python",
   "pygments_lexer": "ipython3",
   "version": "3.5.2"
  }
 },
 "nbformat": 4,
 "nbformat_minor": 2
}
