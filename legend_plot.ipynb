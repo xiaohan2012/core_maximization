{
 "cells": [
  {
   "cell_type": "code",
   "execution_count": 5,
   "metadata": {},
   "outputs": [],
   "source": [
    "%matplotlib inline"
   ]
  },
  {
   "cell_type": "code",
   "execution_count": 3,
   "metadata": {},
   "outputs": [],
   "source": [
    "import matplotlib as mpl\n",
    "from matplotlib import pyplot as plt\n",
    "from viz_helpers import *"
   ]
  },
  {
   "cell_type": "code",
   "execution_count": 6,
   "metadata": {},
   "outputs": [
    {
     "data": {
      "image/png": "[encoded data removed]",
      "text/plain": [
       "<matplotlib.figure.Figure at 0x7fc23160c358>"
      ]
     },
     "metadata": {},
     "output_type": "display_data"
    }
   ],
   "source": [
    "plt.style.use('paper')\n",
    "ax = plt.subplot()\n",
    "method_configs = [\n",
    "    (COLOR_RED, 'o'),\n",
    "    (COLOR_BLUE, 'o'),\n",
    "]\n",
    "labels = ['unpromoted', 'promoted']\n",
    "size = 32\n",
    "handles = []\n",
    "for config in method_configs:\n",
    "    color, shape = config\n",
    "    h = ax.plot([],[], marker=shape, color=color,\n",
    "                ls='none',\n",
    "                markersize=size)[0]\n",
    "    handles.append(h)\n",
    "\n",
    "legend = ax.legend(handles, labels, loc=2,\n",
    "                   framealpha=1, frameon=False,\n",
    "                   numpoints=1,\n",
    "                   fontsize=32,\n",
    "                   ncol=5)\n",
    "ax.axis('off')\n",
    "fig  = legend.figure\n",
    "fig.canvas.draw()\n",
    "bbox  = legend.get_window_extent().transformed(fig.dpi_scale_trans.inverted())\n",
    "fig.savefig('figs/node_legend.pdf', dpi=\"figure\", bbox_inches=bbox)"
   ]
  }
 ],
 "metadata": {
  "kernelspec": {
   "display_name": "Python 3",
   "language": "python",
   "name": "python3"
  },
  "language_info": {
   "codemirror_mode": {
    "name": "ipython",
    "version": 3
   },
   "file_extension": ".py",
   "mimetype": "text/x-python",
   "name": "python",
   "nbconvert_exporter": "python",
   "pygments_lexer": "ipython3",
   "version": "3.5.2"
  }
 },
 "nbformat": 4,
 "nbformat_minor": 2
}
