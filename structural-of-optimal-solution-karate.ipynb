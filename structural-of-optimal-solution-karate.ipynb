{
 "cells": [
  {
   "cell_type": "code",
   "execution_count": 25,
   "metadata": {},
   "outputs": [],
   "source": [
    "import numpy as np\n",
    "from graph_tool.all import load_graph, GraphView\n",
    "from graph_tool.topology import kcore_decomposition\n",
    "from networkit.graphio import readGraph, Format\n",
    "\n",
    "from brute_force import do_brute_force\n",
    "from util import complementary_edges\n"
   ]
  },
  {
   "cell_type": "code",
   "execution_count": 30,
   "metadata": {},
   "outputs": [],
   "source": [
    "gg = readGraph('data/karate.edgelist', fileformat=Format.EdgeListSpaceOne)\n",
    "cand_edges = complementary_edges(gg)\n",
    "optimal_edges = do_brute_force(gg,\n",
    "                               2, cand_edges)"
   ]
  },
  {
   "cell_type": "code",
   "execution_count": 32,
   "metadata": {},
   "outputs": [
    {
     "name": "stdout",
     "output_type": "stream",
     "text": [
      "{(30, 31), (7, 31)}\n"
     ]
    }
   ],
   "source": [
    "print(optimal_edges)"
   ]
  },
  {
   "cell_type": "code",
   "execution_count": 33,
   "metadata": {},
   "outputs": [],
   "source": [
    "outside_node = 31"
   ]
  },
  {
   "cell_type": "code",
   "execution_count": 2,
   "metadata": {},
   "outputs": [],
   "source": [
    "g = load_graph('data/karate.gml')"
   ]
  },
  {
   "cell_type": "code",
   "execution_count": 5,
   "metadata": {},
   "outputs": [],
   "source": [
    "core = kcore_decomposition(g)"
   ]
  },
  {
   "cell_type": "code",
   "execution_count": 34,
   "metadata": {},
   "outputs": [],
   "source": [
    "nodes_c4 = list(np.nonzero(core.a == 4)[0]) + [outside_node]"
   ]
  },
  {
   "cell_type": "code",
   "execution_count": 35,
   "metadata": {},
   "outputs": [],
   "source": [
    "vfilt = g.new_vertex_property('bool')\n",
    "for n in nodes_c4:\n",
    "    vfilt[n] = True\n",
    "subg = GraphView(g, vfilt=vfilt)"
   ]
  },
  {
   "cell_type": "code",
   "execution_count": 36,
   "metadata": {},
   "outputs": [],
   "source": [
    "deg = subg.degree_property_map('out')"
   ]
  },
  {
   "cell_type": "code",
   "execution_count": 49,
   "metadata": {},
   "outputs": [
    {
     "name": "stdout",
     "output_type": "stream",
     "text": [
      " 0 has degree 7\n",
      " 1 has degree 6\n",
      " 2 has degree 7\n",
      " 3 has degree 5\n",
      "** 7 has degree 4\n",
      " 8 has degree 5\n",
      " 13 has degree 5\n",
      "** 30 has degree 4\n",
      "**[OUTSIDE] 31 has degree 3\n",
      " 32 has degree 5\n",
      " 33 has degree 5\n"
     ]
    }
   ],
   "source": [
    "for v in subg.vertices():\n",
    "    prefix = ''\n",
    "    if deg[v] < 5:\n",
    "        prefix += \"**\"\n",
    "\n",
    "    if v == outside_node:\n",
    "        prefix += '[OUTSIDE]'\n",
    "    print('{} {} has degree {}'.format(prefix, v, deg[v]))"
   ]
  },
  {
   "cell_type": "code",
   "execution_count": 29,
   "metadata": {},
   "outputs": [
    {
     "name": "stdout",
     "output_type": "stream",
     "text": [
      "{(30, 31), (7, 31)}\n"
     ]
    }
   ],
   "source": [
    "print(optimal_edges)"
   ]
  }
 ],
 "metadata": {
  "kernelspec": {
   "display_name": "Python 3",
   "language": "python",
   "name": "python3"
  },
  "language_info": {
   "codemirror_mode": {
    "name": "ipython",
    "version": 3
   },
   "file_extension": ".py",
   "mimetype": "text/x-python",
   "name": "python",
   "nbconvert_exporter": "python",
   "pygments_lexer": "ipython3",
   "version": "3.5.2"
  }
 },
 "nbformat": 4,
 "nbformat_minor": 2
}
